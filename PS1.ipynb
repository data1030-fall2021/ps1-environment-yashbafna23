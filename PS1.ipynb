{
 "cells": [
  {
   "cell_type": "markdown",
   "metadata": {},
   "source": [
    "## Create your DATA1030 environment (15 points)\n",
    "\n",
    "Before you start this homework assignment, please watch Isabel Restrepo's guest lecture on reproducable data science (available [here](https://canvas.brown.edu/courses/1082531/modules/items/10603456)). She is the Assistant Director of Research Software Engineering and Data Science at the [Center for Computation and Visualization](https://ccv.brown.edu/) at Brown. She covers state of-the-art and industry-standard techniques to make your software, your data, and your workflows reproducable. She discusses the importance of github and conda, two tools we will use in DATA1030 but she covers additional tools that you might use later on during your internships.\n",
    "\n",
    "Please follow the instructions outlined in this [google doc](https://docs.google.com/document/d/1SyCKGl_tFZKM4yK-ENVzAqYpqHXtYNbZcjUy7A_5pcw/) and create your DATA1030 coding environment. We recommend that you use conda but if you are more familiar with other package managers (like docker, homebrew, poetry), feel free to use those. However, please note that the TAs might not be able to help you if you do not use conda. The most important thing is to install the packages with their versions as shown in the data1030.yml file of the [course's github repository](https://github.com/BrownDSI/DATA1030-Fall2021).\n",
    "\n",
    "Once you are done, run the cell below. If your environment is correctly set up, you'll see 7 green OK signs. Next, please follow the submission instructions in the google doc to submit your problem set solution.\n",
    "\n"
   ]
  },
  {
   "cell_type": "code",
   "execution_count": 1,
   "metadata": {},
   "outputs": [
    {
     "name": "stdout",
     "output_type": "stream",
     "text": [
      "\u001b[42m[ OK ]\u001b[0m Python version is 3.9.7 | packaged by conda-forge | (default, Sep  2 2021, 17:55:20) [MSC v.1916 64 bit (AMD64)]\n",
      "\n",
      "\u001b[42m[ OK ]\u001b[0m numpy version 1.21.1 is installed.\n",
      "\u001b[42m[ OK ]\u001b[0m matplotlib version 3.4.2 is installed.\n",
      "\u001b[42m[ OK ]\u001b[0m sklearn version 0.24.2 is installed.\n",
      "\u001b[42m[ OK ]\u001b[0m pandas version 1.3.1 is installed.\n",
      "\u001b[42m[ OK ]\u001b[0m xgboost version 1.3.3 is installed.\n",
      "\u001b[42m[ OK ]\u001b[0m shap version 0.39.0 is installed.\n"
     ]
    }
   ],
   "source": [
    "from __future__ import print_function\n",
    "from distutils.version import LooseVersion as Version\n",
    "import sys\n",
    "\n",
    "OK = '\\x1b[42m[ OK ]\\x1b[0m'\n",
    "FAIL = \"\\x1b[41m[FAIL]\\x1b[0m\"\n",
    "\n",
    "try:\n",
    "    import importlib\n",
    "except ImportError:\n",
    "    print(FAIL, \"Python version 3.9 is required,\"\n",
    "                \" but %s is installed.\" % sys.version)\n",
    "\n",
    "def import_version(pkg, min_ver, fail_msg=\"\"):\n",
    "    mod = None\n",
    "    try:\n",
    "        mod = importlib.import_module(pkg)\n",
    "        if pkg in {'PIL'}:\n",
    "            ver = mod.VERSION\n",
    "        else:\n",
    "            ver = mod.__version__\n",
    "        if Version(ver) == min_ver:\n",
    "            print(OK, \"%s version %s is installed.\"\n",
    "                  % (lib, min_ver))\n",
    "        else:\n",
    "            print(FAIL, \"%s version %s is required, but %s installed.\"\n",
    "                  % (lib, min_ver, ver))    \n",
    "    except ImportError:\n",
    "        print(FAIL, '%s not installed. %s' % (pkg, fail_msg))\n",
    "    return mod\n",
    "\n",
    "\n",
    "# first check the python version\n",
    "pyversion = Version(sys.version)\n",
    "if pyversion >= \"3.9\":\n",
    "    print(OK, \"Python version is %s\" % sys.version)\n",
    "elif pyversion < \"3.9\":\n",
    "    print(FAIL, \"Python version 3.9 is required,\"\n",
    "                \" but %s is installed.\" % sys.version)\n",
    "else:\n",
    "    print(FAIL, \"Unknown Python version: %s\" % sys.version)\n",
    "\n",
    "    \n",
    "print()\n",
    "requirements = {'numpy': \"1.21.1\", 'matplotlib': \"3.4.2\",'sklearn': \"0.24.2\", \n",
    "                'pandas': \"1.3.1\",'xgboost': \"1.3.3\", 'shap': \"0.39.0\"}\n",
    "\n",
    "# now the dependencies\n",
    "for lib, required_version in list(requirements.items()):\n",
    "    import_version(lib, required_version)"
   ]
  },
  {
   "cell_type": "code",
   "execution_count": null,
   "metadata": {},
   "outputs": [],
   "source": []
  }
 ],
 "metadata": {
  "kernelspec": {
   "display_name": "Python 3 (ipykernel)",
   "language": "python",
   "name": "python3"
  },
  "language_info": {
   "codemirror_mode": {
    "name": "ipython",
    "version": 3
   },
   "file_extension": ".py",
   "mimetype": "text/x-python",
   "name": "python",
   "nbconvert_exporter": "python",
   "pygments_lexer": "ipython3",
   "version": "3.9.7"
  }
 },
 "nbformat": 4,
 "nbformat_minor": 4
}
